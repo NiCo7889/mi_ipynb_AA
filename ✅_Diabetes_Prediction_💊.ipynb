{
  "cells": [
    {
      "cell_type": "code",
      "execution_count": 1,
      "metadata": {
        "id": "J4vvayv3N6j9"
      },
      "outputs": [
        {
          "ename": "ModuleNotFoundError",
          "evalue": "No module named 'kagglehub'",
          "output_type": "error",
          "traceback": [
            "\u001b[1;31m---------------------------------------------------------------------------\u001b[0m",
            "\u001b[1;31mModuleNotFoundError\u001b[0m                       Traceback (most recent call last)",
            "Cell \u001b[1;32mIn[1], line 6\u001b[0m\n\u001b[0;32m      1\u001b[0m \u001b[38;5;66;03m# IMPORTANT: RUN THIS CELL IN ORDER TO IMPORT YOUR KAGGLE DATA SOURCES,\u001b[39;00m\n\u001b[0;32m      2\u001b[0m \u001b[38;5;66;03m# THEN FEEL FREE TO DELETE THIS CELL.\u001b[39;00m\n\u001b[0;32m      3\u001b[0m \u001b[38;5;66;03m# NOTE: THIS NOTEBOOK ENVIRONMENT DIFFERS FROM KAGGLE'S PYTHON\u001b[39;00m\n\u001b[0;32m      4\u001b[0m \u001b[38;5;66;03m# ENVIRONMENT SO THERE MAY BE MISSING LIBRARIES USED BY YOUR\u001b[39;00m\n\u001b[0;32m      5\u001b[0m \u001b[38;5;66;03m# NOTEBOOK.\u001b[39;00m\n\u001b[1;32m----> 6\u001b[0m \u001b[38;5;28;01mimport\u001b[39;00m\u001b[38;5;250m \u001b[39m\u001b[38;5;21;01mkagglehub\u001b[39;00m\n\u001b[0;32m      7\u001b[0m organizations_uciml_pima_indians_diabetes_database_path \u001b[38;5;241m=\u001b[39m kagglehub\u001b[38;5;241m.\u001b[39mdataset_download(\u001b[38;5;124m'\u001b[39m\u001b[38;5;124morganizations/uciml/pima-indians-diabetes-database\u001b[39m\u001b[38;5;124m'\u001b[39m)\n\u001b[0;32m      8\u001b[0m alexteboul_diabetes_health_indicators_dataset_path \u001b[38;5;241m=\u001b[39m kagglehub\u001b[38;5;241m.\u001b[39mdataset_download(\u001b[38;5;124m'\u001b[39m\u001b[38;5;124malexteboul/diabetes-health-indicators-dataset\u001b[39m\u001b[38;5;124m'\u001b[39m)\n",
            "\u001b[1;31mModuleNotFoundError\u001b[0m: No module named 'kagglehub'"
          ]
        }
      ],
      "source": [
        "# IMPORTANT: RUN THIS CELL IN ORDER TO IMPORT YOUR KAGGLE DATA SOURCES,\n",
        "# THEN FEEL FREE TO DELETE THIS CELL.\n",
        "# NOTE: THIS NOTEBOOK ENVIRONMENT DIFFERS FROM KAGGLE'S PYTHON\n",
        "# ENVIRONMENT SO THERE MAY BE MISSING LIBRARIES USED BY YOUR\n",
        "# NOTEBOOK.\n",
        "import kagglehub\n",
        "organizations_uciml_pima_indians_diabetes_database_path = kagglehub.dataset_download('organizations/uciml/pima-indians-diabetes-database')\n",
        "alexteboul_diabetes_health_indicators_dataset_path = kagglehub.dataset_download('alexteboul/diabetes-health-indicators-dataset')\n",
        "whenamancodes_predict_diabities_path = kagglehub.dataset_download('whenamancodes/predict-diabities')\n",
        "iammustafatz_diabetes_prediction_dataset_path = kagglehub.dataset_download('iammustafatz/diabetes-prediction-dataset')\n",
        "imtkaggleteam_diabetes_path = kagglehub.dataset_download('imtkaggleteam/diabetes')\n",
        "\n",
        "print('Data source import complete.')\n"
      ]
    },
    {
      "cell_type": "markdown",
      "metadata": {
        "id": "EDH45g3cN6j-"
      },
      "source": [
        "<div style=\"color:#254E58;margin:0;font-size:50px;font-family:Georgia;text-align:center;display:fill;border-radius:5px;overflow:hidden;font-weight:600;\">Diabetes Prediction<br>for Pima Women</div>\n",
        "\n",
        "<h5 style=\"text-align: center; font-family: Verdana; font-size: 12px; font-style: normal; font-weight: bold; text-decoration: None; text-transform: none; letter-spacing: 1px; color: #034914; background-color: #ffffff;\">CREATED BY: ZABIH ULLAH</h5>\n",
        "\n",
        "<br>    \n",
        "<p style=\"text-align: center;\">\n",
        "<img src=\"https://raw.githubusercontent.com/ntclai/PictureForMyProject/main/insurance.png\" style='width: 500px; height: 500px;'>\n",
        "</p>\n",
        "\n",
        "\n",
        "<center><a href=\"https://www.buymeacoffee.com/zabih\"><img src=\"https://www.codehim.com/wp-content/uploads/2022/09/bmc-button-640x180.png.webp\" alt=\"Buy Me A Coffee\" style=\"height: 80px; width: 300px; box-shadow: 0px 3px 2px 0px rgba(190, 190, 190, 0.5) !important;-webkit-box-shadow: 0px 3px 2px 0px rgba(190, 190, 190, 0.5) !important;\" ></a></center>"
      ]
    },
    {
      "cell_type": "markdown",
      "metadata": {
        "id": "HazNi_UyN6kA"
      },
      "source": [
        "<a id=\"top\"></a>\n",
        "# <div style=\"padding:20px;color:white;margin:0;font-size:30px;font-family:Georgia;text-align:left;display:fill;border-radius:5px;background-color:#254E58;overflow:hidden\">Table of content</div>\n",
        "\n",
        "<div style=\"background-color:aliceblue; padding:30px; font-size:15px;color:#034914\">\n",
        "    \n",
        "* [1. Introduction](#1)\n",
        "    - [Problem statement](#1.1)\n",
        "    - [Data description](#1.2)\n",
        "    \n",
        "* [2. Import libraries](#2)    \n",
        "* [3. Basic Exploration](#3)\n",
        "    - [Read dataset](#3.0)\n",
        "    - [Some information](#3.1)\n",
        "    - [Data visualization](#3.3)\n",
        "* [4. Data preprocessing](#4)\n",
        "* [5. Machine Learning model](#5)\n",
        "    - [Logistic Regression](#5.1)\n",
        "    - [Random Forest Classifier](#5.2)\n",
        "    - [Hyperparameter Tuning of Random Forest](#5.3)\n",
        "    - [Decision Tree Classifier](#5.4)\n",
        "    - [Hyperparameter Tuning of Decision Tree](#5.5)\n",
        "    - [KNeighborsClassifier Model](#5.6)\n",
        "    - [Hyperparameter Tuning of KNN](#5.7)\n",
        "    - [Support Vector Classifier](#5.8)\n",
        "    - [AdaBoost Classifier](#5.9)\n",
        "    - [Gradient Boosting Classifier](#5.10)\n",
        "    - [xgboost Classifier](#5.11)\n",
        "    \n",
        "    \n",
        "* [6. Conclusion](#6)\n",
        "    - [Conclusion](#6.1)\n",
        "    - [Future Possible Work](#6.2)\n",
        "* [7. Author Message](#7)"
      ]
    },
    {
      "cell_type": "markdown",
      "metadata": {
        "id": "KIvRrS2NN6kA"
      },
      "source": [
        "<a id=\"1\"></a>\n",
        "# <div style=\"padding:20px;color:white;margin:0;font-size:30px;font-family:Georgia;text-align:left;display:fill;border-radius:5px;background-color:#254E58;overflow:hidden\">1 | Introduction</div>"
      ]
    },
    {
      "cell_type": "markdown",
      "metadata": {
        "id": "jxvYESZkN6kA"
      },
      "source": [
        "<a id=\"1.1\"></a>\n",
        "<h2 style=\"font-family: Verdana; font-size: 25px; font-style: normal; font-weight: normal; text-decoration: none; text-transform: none; letter-spacing: 2px; color: #254E58; background-color: #ffffff;\"><b>1.1 | Problem</b> statement"
      ]
    },
    {
      "cell_type": "markdown",
      "metadata": {
        "id": "i5CE1kwnN6kB"
      },
      "source": [
        "<span style=\"font-size:14px; font-family:Verdana;\"> The objective of this dataset is to build a predictive model for diagnosing diabetes in female patients who are at least 21 years old and of Pima Indian heritage. The model should predict whether a patient has diabetes (Outcome = 1) or does not have diabetes (Outcome = 0) based on several diagnostic measurements, including glucose level, blood pressure, skin thickness, insulin level, BMI, diabetes pedigree function, and age.</span>"
      ]
    },
    {
      "cell_type": "markdown",
      "metadata": {
        "id": "uoGjfRFnN6kB"
      },
      "source": [
        "<a id=\"1.2\"></a>\n",
        "<h2 style=\"font-family: Verdana; font-size: 25px; font-style: normal; font-weight: normal; text-decoration: none; text-transform: none; letter-spacing: 2px; color: #254E58; background-color: #ffffff;\"><b>1.2 | Data</b> description"
      ]
    },
    {
      "cell_type": "markdown",
      "metadata": {
        "id": "KYEYnu6qN6kB"
      },
      "source": [
        "<table style=\"width: 100%; border-collapse: collapse;\">\n",
        "  <thead>\n",
        "    <tr>\n",
        "      <th style=\"min-width: 10px; width: 30px; background-color: #333333; color: white; font-weight: bold; text-align: left; padding: 8px;\">No</th>\n",
        "      <th style=\"background-color: #333333; color: white; font-weight: bold; text-align: left; padding: 8px;\">Column Name</th>\n",
        "      <th style=\"background-color: #333333; color: white; font-weight: bold; text-align: left; padding: 8px;\">Meaning</th>\n",
        "    </tr>\n",
        "  </thead>\n",
        "  <tbody>\n",
        "    <tr>\n",
        "      <td style=\"font-weight: bold; font-size: 14px; color: #254441; text-align: left;\">1</td>\n",
        "      <td style=\"font-weight: bold; font-size: 14px; color: #254441; text-align: left;\">Pregnancies</td>\n",
        "      <td style=\"font-size: 14px; text-align: left;\">Number of pregnancies</td>\n",
        "    </tr>\n",
        "    <tr>\n",
        "      <td style=\"font-weight: bold; font-size: 14px; color: #3850A0; text-align: left;\">2</td>\n",
        "      <td style=\"font-weight: bold; font-size: 14px; color: #3850A0; text-align: left;\">Glucose</td>\n",
        "      <td style=\"font-size: 14px; text-align: left;\">Glucose level in blood</td>\n",
        "    </tr>\n",
        "    <tr>\n",
        "      <td style=\"font-weight: bold; font-size: 14px; color: #8C001A; text-align: left;\">3</td>\n",
        "      <td style=\"font-weight: bold; font-size: 14px; color: #8C001A; text-align: left;\">BloodPressure</td>\n",
        "      <td style=\"font-size: 14px; text-align: left;\">Blood pressure measurement</td>\n",
        "    </tr>\n",
        "    <tr>\n",
        "      <td style=\"font-weight: bold; font-size: 14px; color: #FFAA33; text-align: left;\">4</td>\n",
        "      <td style=\"font-weight: bold; font-size: 14px; color: #FFAA33; text-align: left;\">SkinThickness</td>\n",
        "      <td style=\"font-size: 14px; text-align: left;\">Thickness of the skin</td>\n",
        "    </tr>\n",
        "    <tr>\n",
        "      <td style=\"font-weight: bold; font-size: 14px; color: #FF0077; text-align: left;\">5</td>\n",
        "      <td style=\"font-weight: bold; font-size: 14px; color: #FF0077; text-align: left;\">Insulin</td>\n",
        "      <td style=\"font-size: 14px; text-align: left;\">Insulin level in blood</td>\n",
        "    </tr>\n",
        "    <tr>\n",
        "      <td style=\"font-weight: bold; font-size: 14px; color: #009A80; text-align: left;\">6</td>\n",
        "      <td style=\"font-weight: bold; font-size: 14px; color: #009A80; text-align: left;\">BMI</td>\n",
        "      <td style=\"font-size: 14px; text-align: left;\">Body mass index</td>\n",
        "    </tr>\n",
        "    <tr>\n",
        "      <td style=\"font-weight: bold; font-size: 14px; color: #660099; text-align: left;\">7</td>\n",
        "      <td style=\"font-weight: bold; font-size: 14px; color: #660099; text-align: left;\">DiabetesPedigreeFunction</td>\n",
        "      <td style=\"font-size: 14px; text-align: left;\">Diabetes percentage</td>\n",
        "    </tr>\n",
        "    <tr>\n",
        "      <td style=\"font-weight: bold; font-size: 14px; color: #4B0082; text-align: left;\">8</td>\n",
        "      <td style=\"font-weight: bold; font-size: 14px; color: #4B0082; text-align: left;\">Age</td>\n",
        "      <td style=\"font-size: 14px; text-align: left;\">Age</td>\n",
        "    </tr>\n",
        "    <tr>\n",
        "      <td style=\"font-weight: bold; font-size: 14px; color: #0000FF; text-align: left;\">9</td>\n",
        "      <td style=\"font-weight: bold; font-size: 14px; color: #0000FF; text-align: left;\">Outcome</td>\n",
        "      <td style=\"font-size: 14px; text-align: left;\">Final result (<font color=\"#008000\">1</font>: Yes, the individual has diabetes; <font color=\"#FF0000\">0</font>: No, the individual does not have diabetes)</td>\n",
        "    </tr>\n",
        "  </tbody>\n",
        "</table>\n"
      ]
    },
    {
      "cell_type": "markdown",
      "metadata": {
        "id": "fwW1y1_BN6kC"
      },
      "source": [
        "<a id=\"2\"></a>\n",
        "# <div style=\"padding:20px;color:white;margin:0;font-size:30px;font-family:Georgia;text-align:left;display:fill;border-radius:5px;background-color:#254E58;overflow:hidden\">2 | Importing Libraries</div>"
      ]
    },
    {
      "cell_type": "code",
      "execution_count": null,
      "metadata": {
        "execution": {
          "iopub.execute_input": "2024-03-04T13:42:18.480823Z",
          "iopub.status.busy": "2024-03-04T13:42:18.480121Z",
          "iopub.status.idle": "2024-03-04T13:42:22.629406Z",
          "shell.execute_reply": "2024-03-04T13:42:22.628404Z",
          "shell.execute_reply.started": "2024-03-04T13:42:18.480795Z"
        },
        "id": "R4pytdi_N6kC",
        "trusted": true
      },
      "outputs": [],
      "source": [
        "import pandas as pd\n",
        "import numpy as np\n",
        "import matplotlib.pyplot as plt\n",
        "%matplotlib inline\n",
        "import seaborn as sns\n",
        "from sklearn.model_selection import GridSearchCV, cross_val_score\n",
        "from sklearn.preprocessing import StandardScaler\n",
        "from sklearn.ensemble import RandomForestClassifier, VotingClassifier\n",
        "from sklearn.tree import DecisionTreeClassifier\n",
        "from sklearn.svm import SVC\n",
        "from sklearn.neighbors import KNeighborsClassifier\n",
        "from sklearn.linear_model import LogisticRegression\n",
        "from xgboost import XGBClassifier\n",
        "from lightgbm import LGBMClassifier\n",
        "from sklearn.ensemble import AdaBoostClassifier, GradientBoostingClassifier\n",
        "import joblib\n",
        "import warnings\n",
        "warnings.filterwarnings('ignore')"
      ]
    },
    {
      "cell_type": "markdown",
      "metadata": {
        "id": "es6No3bbN6kC"
      },
      "source": [
        "<a id=\"3\"></a>\n",
        "# <div style=\"padding:20px;color:white;margin:0;font-size:30px;font-family:Georgia;text-align:left;display:fill;border-radius:5px;background-color:#254E58;overflow:hidden\">3 | Basic Exploration</div>"
      ]
    },
    {
      "cell_type": "markdown",
      "metadata": {
        "id": "nfN7H0ikN6kC"
      },
      "source": [
        "<a id=\"3.1\"></a>\n",
        "<h2 style=\"font-family: Verdana; font-size: 25px; font-style: normal; font-weight: normal; text-decoration: none; text-transform: none; letter-spacing: 2px; color: #254E58; background-color: #ffffff;\"><b>3.1 | Read</b> dataset"
      ]
    },
    {
      "cell_type": "code",
      "execution_count": null,
      "metadata": {
        "execution": {
          "iopub.execute_input": "2024-03-04T13:42:57.786763Z",
          "iopub.status.busy": "2024-03-04T13:42:57.786365Z",
          "iopub.status.idle": "2024-03-04T13:42:57.806814Z",
          "shell.execute_reply": "2024-03-04T13:42:57.805877Z",
          "shell.execute_reply.started": "2024-03-04T13:42:57.786728Z"
        },
        "id": "3SmOR36aN6kD",
        "trusted": true
      },
      "outputs": [],
      "source": [
        "df = pd.read_csv('/kaggle/input/pima-indians-diabetes-database/diabetes.csv')"
      ]
    },
    {
      "cell_type": "markdown",
      "metadata": {
        "id": "AXUZBKpuN6kD"
      },
      "source": [
        "<a id=\"3.2\"></a>\n",
        "<h2 style=\"font-family: Verdana; font-size: 25px; font-style: normal; font-weight: normal; text-decoration: none; text-transform: none; letter-spacing: 2px; color: #254E58; background-color: #ffffff;\"><b>3.2 | Some</b> information"
      ]
    },
    {
      "cell_type": "markdown",
      "metadata": {
        "id": "VFV-q_OnN6kD"
      },
      "source": [
        "> <span style='font-size:15px; font-family:Verdana;color: #254E58; border-bottom: solid 3px'><b>3.2.1 | Display data content</b></span>"
      ]
    },
    {
      "cell_type": "code",
      "execution_count": null,
      "metadata": {
        "execution": {
          "iopub.execute_input": "2024-03-04T13:43:05.83592Z",
          "iopub.status.busy": "2024-03-04T13:43:05.835418Z",
          "iopub.status.idle": "2024-03-04T13:43:05.900356Z",
          "shell.execute_reply": "2024-03-04T13:43:05.899451Z",
          "shell.execute_reply.started": "2024-03-04T13:43:05.83588Z"
        },
        "id": "540a9PRoN6kD",
        "trusted": true
      },
      "outputs": [],
      "source": [
        "styled_df = df.head(5).style\n",
        "\n",
        "# Set background color, text color, and border for the entire DataFrame\n",
        "styled_df.set_properties(**{\"background-color\": \"#254E58\", \"color\": \"#e9c46a\", \"border\": \"1.5px solid black\"})\n",
        "\n",
        "# Modify the color and background color of the table headers (th)\n",
        "styled_df.set_table_styles([\n",
        "    {\"selector\": \"th\", \"props\": [(\"color\", 'white'), (\"background-color\", \"#333333\")]}\n",
        "])\n",
        "\n"
      ]
    },
    {
      "cell_type": "markdown",
      "metadata": {
        "id": "J0cl5BKQN6kD"
      },
      "source": [
        "> <span style='font-size:15px; font-family:Verdana;color: #254E58; border-bottom: solid 3px'><b>3.2.2 |\n",
        "Number of rows, number of columns</b></span>"
      ]
    },
    {
      "cell_type": "code",
      "execution_count": null,
      "metadata": {
        "execution": {
          "iopub.execute_input": "2024-03-04T13:43:12.226914Z",
          "iopub.status.busy": "2024-03-04T13:43:12.226235Z",
          "iopub.status.idle": "2024-03-04T13:43:12.231939Z",
          "shell.execute_reply": "2024-03-04T13:43:12.23085Z",
          "shell.execute_reply.started": "2024-03-04T13:43:12.226878Z"
        },
        "id": "ovlh0sznN6kD",
        "trusted": true
      },
      "outputs": [],
      "source": [
        "rows , col =  df.shape\n",
        "print(f\"Number of Rows : {rows} \\nNumber of Columns : {col}\")"
      ]
    },
    {
      "cell_type": "markdown",
      "metadata": {
        "id": "Djme_j5QN6kD"
      },
      "source": [
        "> <span style='font-size:15px; font-family:Verdana;color: #254E58; border-bottom: solid 3px'><b>3.2.3 | Basic info</b></span>"
      ]
    },
    {
      "cell_type": "code",
      "execution_count": null,
      "metadata": {
        "execution": {
          "iopub.execute_input": "2023-08-27T17:36:50.23831Z",
          "iopub.status.busy": "2023-08-27T17:36:50.237851Z",
          "iopub.status.idle": "2023-08-27T17:36:50.267503Z",
          "shell.execute_reply": "2023-08-27T17:36:50.266105Z",
          "shell.execute_reply.started": "2023-08-27T17:36:50.238269Z"
        },
        "id": "jiKvILJfN6kD",
        "trusted": true
      },
      "outputs": [],
      "source": [
        "df.info()"
      ]
    },
    {
      "cell_type": "markdown",
      "metadata": {
        "id": "SK9ur5u6N6kD"
      },
      "source": [
        "> <span style='font-size:15px; font-family:Verdana;color: #254E58; border-bottom: solid 3px'><b>3.2.4 | Count null/nan values</b></span>"
      ]
    },
    {
      "cell_type": "code",
      "execution_count": null,
      "metadata": {
        "execution": {
          "iopub.execute_input": "2024-03-04T13:43:21.428804Z",
          "iopub.status.busy": "2024-03-04T13:43:21.428417Z",
          "iopub.status.idle": "2024-03-04T13:43:21.437737Z",
          "shell.execute_reply": "2024-03-04T13:43:21.436627Z",
          "shell.execute_reply.started": "2024-03-04T13:43:21.428764Z"
        },
        "id": "vexMIjmWN6kE",
        "scrolled": true,
        "trusted": true
      },
      "outputs": [],
      "source": [
        "df.isnull().sum()"
      ]
    },
    {
      "cell_type": "markdown",
      "metadata": {
        "id": "IpKCEl_pN6kE"
      },
      "source": [
        "<div style=\"background-color:white;font-size:20px;font-family:Georgia;border-style: solid;border-color: #254E58;border-width:3px;padding:10px;margin: 1px;color:#254E58;overflow:hidden\"><i>No missing values Found</i></div>"
      ]
    },
    {
      "cell_type": "markdown",
      "metadata": {
        "id": "_q8XFo0LN6kE"
      },
      "source": [
        "> <span style='font-size:15px; font-family:Verdana;color: #254E58;border-bottom: solid 3px'><b>3.2.5 | Description</b></span>"
      ]
    },
    {
      "cell_type": "code",
      "execution_count": null,
      "metadata": {
        "execution": {
          "iopub.execute_input": "2024-03-04T13:43:29.250944Z",
          "iopub.status.busy": "2024-03-04T13:43:29.250541Z",
          "iopub.status.idle": "2024-03-04T13:43:29.289039Z",
          "shell.execute_reply": "2024-03-04T13:43:29.288108Z",
          "shell.execute_reply.started": "2024-03-04T13:43:29.250907Z"
        },
        "id": "R8linLNEN6kE",
        "trusted": true
      },
      "outputs": [],
      "source": [
        "styled_df = df.describe().style \\\n",
        "    .set_table_styles([\n",
        "        {'selector': 'th', 'props': [('background-color', '#254E58'), ('color', 'white'), ('font-weight', 'bold'), ('text-align', 'left'), ('padding', '8px')]},\n",
        "        {'selector': 'td', 'props': [('padding', '8px')]}\n",
        "    ]) \\\n",
        "    .set_properties(**{'font-size': '14px', 'background-color': '#F5F5F5', 'border-collapse': 'collapse', 'margin': '10px'})\n",
        "\n",
        "# Display the styled DataFrame\n",
        "styled_df"
      ]
    },
    {
      "cell_type": "code",
      "execution_count": null,
      "metadata": {
        "execution": {
          "iopub.execute_input": "2024-03-04T13:49:03.458843Z",
          "iopub.status.busy": "2024-03-04T13:49:03.458195Z",
          "iopub.status.idle": "2024-03-04T13:49:04.650707Z",
          "shell.execute_reply": "2024-03-04T13:49:04.649742Z",
          "shell.execute_reply.started": "2024-03-04T13:49:03.45881Z"
        },
        "id": "8MeRB0YkN6kE",
        "trusted": true
      },
      "outputs": [],
      "source": [
        "import missingno as msno\n",
        "\n",
        "num_columns = len(df.columns)\n",
        "colors = plt.cm.viridis(np.linspace(0, 1, num_columns))\n",
        "\n",
        "msno.bar(df, color=colors)\n",
        "plt.show()\n"
      ]
    },
    {
      "cell_type": "markdown",
      "metadata": {
        "id": "0vXbSxESN6kE"
      },
      "source": [
        "<a id=\"3.3\"></a>\n",
        "<h2 style=\"font-family: Verdana; font-size: 25px; font-style: normal; font-weight: normal; text-decoration: none; text-transform: none; letter-spacing: 2px; color: #254E58; background-color: #ffffff;\"><b>3.3 | Data </b> visualization"
      ]
    },
    {
      "cell_type": "markdown",
      "metadata": {
        "id": "YWN7XDUjN6kE"
      },
      "source": [
        "> <span style='font-size:15px; font-family:Verdana;color: #254E58;'><b>3.3.1 |Distributions of attributes</b></span>"
      ]
    },
    {
      "cell_type": "code",
      "execution_count": null,
      "metadata": {
        "execution": {
          "iopub.execute_input": "2023-08-27T17:36:51.789424Z",
          "iopub.status.busy": "2023-08-27T17:36:51.788974Z",
          "iopub.status.idle": "2023-08-27T17:36:53.717914Z",
          "shell.execute_reply": "2023-08-27T17:36:53.716898Z",
          "shell.execute_reply.started": "2023-08-27T17:36:51.789384Z"
        },
        "id": "nSkJRiuBN6kE",
        "trusted": true
      },
      "outputs": [],
      "source": [
        "df.hist(figsize = (10,10))\n",
        "plt.show()"
      ]
    },
    {
      "cell_type": "markdown",
      "metadata": {
        "id": "Awr67GVhN6kE"
      },
      "source": [
        "> <span style='font-size:15px; font-family:Verdana;color: #254E58;'><b>3.3.2 | Boxplot</b></span>"
      ]
    },
    {
      "cell_type": "code",
      "execution_count": null,
      "metadata": {
        "execution": {
          "iopub.execute_input": "2023-08-27T17:36:53.724018Z",
          "iopub.status.busy": "2023-08-27T17:36:53.723514Z",
          "iopub.status.idle": "2023-08-27T17:36:55.60991Z",
          "shell.execute_reply": "2023-08-27T17:36:55.608447Z",
          "shell.execute_reply.started": "2023-08-27T17:36:53.723973Z"
        },
        "id": "4j7lHDhXN6kE",
        "trusted": true
      },
      "outputs": [],
      "source": [
        "num_rows, num_cols = 3, 3\n",
        "\n",
        "# Create subplots\n",
        "fig, axes = plt.subplots(num_rows, num_cols, figsize=(15, 10))\n",
        "\n",
        "# Flatten the axes for easier iteration\n",
        "axes = axes.flatten()\n",
        "\n",
        "# Loop through numeric columns and create boxplots\n",
        "for i, column in enumerate(df.columns):\n",
        "    sns.boxplot(data=df, x=column, ax=axes[i])\n",
        "    axes[i].set_title(f'Boxplot for {column}')\n",
        "\n",
        "# Remove any remaining empty subplots\n",
        "for j in range(len(df.columns), len(axes)):\n",
        "    fig.delaxes(axes[j])\n",
        "\n",
        "# Adjust layout\n",
        "plt.tight_layout()\n",
        "plt.show()"
      ]
    },
    {
      "cell_type": "markdown",
      "metadata": {
        "id": "ZuDPq7mjN6kF"
      },
      "source": [
        "> <span style='font-size:15px; font-family:Verdana;color: #254E58;'><b>3.3.3 | Pairplot of attributes</b></span>"
      ]
    },
    {
      "cell_type": "code",
      "execution_count": null,
      "metadata": {
        "execution": {
          "iopub.execute_input": "2023-08-27T17:36:55.611911Z",
          "iopub.status.busy": "2023-08-27T17:36:55.611434Z",
          "iopub.status.idle": "2023-08-27T17:37:25.685808Z",
          "shell.execute_reply": "2023-08-27T17:37:25.681025Z",
          "shell.execute_reply.started": "2023-08-27T17:36:55.611849Z"
        },
        "id": "BbNR3bGMN6kF",
        "trusted": true
      },
      "outputs": [],
      "source": [
        "sns.pairplot(data = df, hue = 'Outcome' )\n",
        "plt.show()"
      ]
    },
    {
      "cell_type": "markdown",
      "metadata": {
        "id": "6jto5VqGN6kF"
      },
      "source": [
        "> <span style='font-size:15px; font-family:Verdana;color: #254E58;'><b>3.3.4 | Age and Outcome</b></span>"
      ]
    },
    {
      "cell_type": "code",
      "execution_count": null,
      "metadata": {
        "execution": {
          "iopub.execute_input": "2023-08-27T17:37:25.688507Z",
          "iopub.status.busy": "2023-08-27T17:37:25.687781Z",
          "iopub.status.idle": "2023-08-27T17:37:26.081656Z",
          "shell.execute_reply": "2023-08-27T17:37:26.080471Z",
          "shell.execute_reply.started": "2023-08-27T17:37:25.688466Z"
        },
        "id": "v0qBqxmxN6kF",
        "trusted": true
      },
      "outputs": [],
      "source": [
        "sns.set(rc={\"axes.facecolor\":\"#EAE7F9\",\"figure.facecolor\":\"#EAE7F9\"})\n",
        "p=sns.catplot(x=\"Outcome\",y=\"Age\", data=df, kind='box')\n",
        "plt.title(\"Age and Outcome Correlation\", size=20, y=1.0);"
      ]
    },
    {
      "cell_type": "markdown",
      "metadata": {
        "id": "zI5x-3F1N6kF"
      },
      "source": [
        "> <span style='font-size:15px; font-family:Verdana;color: #254E58;'><b>3.3.5 | Glucose and Outcome Correlation</b></span>"
      ]
    },
    {
      "cell_type": "code",
      "execution_count": null,
      "metadata": {
        "execution": {
          "iopub.execute_input": "2023-08-27T17:37:26.083945Z",
          "iopub.status.busy": "2023-08-27T17:37:26.083472Z",
          "iopub.status.idle": "2023-08-27T17:37:26.464064Z",
          "shell.execute_reply": "2023-08-27T17:37:26.462569Z",
          "shell.execute_reply.started": "2023-08-27T17:37:26.083902Z"
        },
        "id": "maqaIRl0N6kF",
        "trusted": true
      },
      "outputs": [],
      "source": [
        "sns.set(rc={\"axes.facecolor\":\"#EAE7F9\",\"figure.facecolor\":\"#EAE7F9\"})\n",
        "p=sns.catplot(x=\"Outcome\",y=\"Glucose\", data=df, kind='box')\n",
        "plt.title(\"Glucose and Outcome Correlation\", size=20, y=1.0);"
      ]
    },
    {
      "cell_type": "markdown",
      "metadata": {
        "id": "nxgOOBQWN6kF"
      },
      "source": [
        "> <span style='font-size:15px; font-family:Verdana;color: #254E58;'><b>3.3.6 | Correlation between attributes</b></span>"
      ]
    },
    {
      "cell_type": "code",
      "execution_count": null,
      "metadata": {
        "execution": {
          "iopub.execute_input": "2023-08-27T17:37:26.466676Z",
          "iopub.status.busy": "2023-08-27T17:37:26.466246Z",
          "iopub.status.idle": "2023-08-27T17:37:27.422965Z",
          "shell.execute_reply": "2023-08-27T17:37:27.421623Z",
          "shell.execute_reply.started": "2023-08-27T17:37:26.466635Z"
        },
        "id": "YghQIEauN6kF",
        "trusted": true
      },
      "outputs": [],
      "source": [
        "plt.figure(figsize=(20, 17))\n",
        "matrix = np.triu(df.corr())\n",
        "sns.heatmap(df.corr(), annot=True, linewidth=.8, mask=matrix, cmap=\"rocket\");"
      ]
    },
    {
      "cell_type": "code",
      "execution_count": null,
      "metadata": {
        "execution": {
          "iopub.execute_input": "2023-08-27T17:37:27.424818Z",
          "iopub.status.busy": "2023-08-27T17:37:27.42439Z",
          "iopub.status.idle": "2023-08-27T17:37:28.643804Z",
          "shell.execute_reply": "2023-08-27T17:37:28.642647Z",
          "shell.execute_reply.started": "2023-08-27T17:37:27.424776Z"
        },
        "id": "WjF8AFOTN6kJ",
        "trusted": true
      },
      "outputs": [],
      "source": [
        "plt.figure(figsize=(16,9))\n",
        "sns.heatmap(df.corr(), annot=True);"
      ]
    },
    {
      "cell_type": "code",
      "execution_count": null,
      "metadata": {
        "execution": {
          "iopub.execute_input": "2023-08-27T17:37:28.645657Z",
          "iopub.status.busy": "2023-08-27T17:37:28.645314Z",
          "iopub.status.idle": "2023-08-27T17:37:28.656412Z",
          "shell.execute_reply": "2023-08-27T17:37:28.65508Z",
          "shell.execute_reply.started": "2023-08-27T17:37:28.645618Z"
        },
        "id": "SVQYerapN6kJ",
        "scrolled": true,
        "trusted": true
      },
      "outputs": [],
      "source": [
        "hig_corr = df.corr()\n",
        "hig_corr_features = hig_corr.index[abs(hig_corr[\"Outcome\"]) >= 0.2]\n",
        "hig_corr_features"
      ]
    },
    {
      "cell_type": "markdown",
      "metadata": {
        "id": "gsNqwRypN6kJ"
      },
      "source": [
        "> <span style='font-size:15px; font-family:Verdana;color: #254E58;'><b>3.3.7 | Standard Deviation</b></span>"
      ]
    },
    {
      "cell_type": "code",
      "execution_count": null,
      "metadata": {
        "execution": {
          "iopub.execute_input": "2023-08-27T17:37:28.659141Z",
          "iopub.status.busy": "2023-08-27T17:37:28.658673Z",
          "iopub.status.idle": "2023-08-27T17:37:28.670794Z",
          "shell.execute_reply": "2023-08-27T17:37:28.669594Z",
          "shell.execute_reply.started": "2023-08-27T17:37:28.6591Z"
        },
        "id": "IxF6Q5_CN6kJ",
        "trusted": true
      },
      "outputs": [],
      "source": [
        "#Standard Deviation\n",
        "df.var()"
      ]
    },
    {
      "cell_type": "markdown",
      "metadata": {
        "id": "KA5MSAfMN6kJ"
      },
      "source": [
        "<a id=\"4\"></a>\n",
        "# <div style=\"padding:20px;color:white;margin:0;font-size:30px;font-family:Georgia;text-align:left;display:fill;border-radius:5px;background-color:#254E58;overflow:hidden\">4 | Data Preprocessing</div>"
      ]
    },
    {
      "cell_type": "markdown",
      "metadata": {
        "id": "1sKE9PnTN6kJ"
      },
      "source": [
        "> <span style='font-size:15px; font-family:Verdana;color: #254E58;'><b>Handling Outliers</b></span>"
      ]
    },
    {
      "cell_type": "code",
      "execution_count": null,
      "metadata": {
        "execution": {
          "iopub.execute_input": "2023-08-27T17:37:28.673442Z",
          "iopub.status.busy": "2023-08-27T17:37:28.672517Z",
          "iopub.status.idle": "2023-08-27T17:37:28.688619Z",
          "shell.execute_reply": "2023-08-27T17:37:28.687221Z",
          "shell.execute_reply.started": "2023-08-27T17:37:28.673397Z"
        },
        "id": "XsJussQsN6kK",
        "trusted": true
      },
      "outputs": [],
      "source": [
        "numeric_columns = ['Insulin', 'DiabetesPedigreeFunction',]\n",
        "\n",
        "for column_name in numeric_columns:\n",
        "    Q1 = np.percentile(df[column_name], 25, interpolation='midpoint')\n",
        "    Q3 = np.percentile(df[column_name], 75, interpolation='midpoint')\n",
        "\n",
        "    IQR = Q3 - Q1\n",
        "    low_lim = Q1 - 1.5 * IQR\n",
        "    up_lim = Q3 + 1.5 * IQR\n",
        "\n",
        "    # Find outliers in the specified column\n",
        "    outliers = df[(df[column_name] < low_lim) | (df[column_name] > up_lim)][column_name]\n",
        "\n",
        "    # Replace outliers with the respective lower or upper limit\n",
        "    df[column_name] = np.where(df[column_name] < low_lim, low_lim, df[column_name])\n",
        "    df[column_name] = np.where(df[column_name] > up_lim, up_lim, df[column_name])"
      ]
    },
    {
      "cell_type": "markdown",
      "metadata": {
        "id": "JoV0bR82N6kK"
      },
      "source": [
        "> <span style='font-size:15px; font-family:Verdana;color: #254E58;'><b>Get `input` and `target` columns</b></span>"
      ]
    },
    {
      "cell_type": "code",
      "execution_count": null,
      "metadata": {
        "execution": {
          "iopub.execute_input": "2023-08-27T17:37:28.690703Z",
          "iopub.status.busy": "2023-08-27T17:37:28.690301Z",
          "iopub.status.idle": "2023-08-27T17:37:28.699514Z",
          "shell.execute_reply": "2023-08-27T17:37:28.69813Z",
          "shell.execute_reply.started": "2023-08-27T17:37:28.690672Z"
        },
        "id": "5xucPwPZN6kK",
        "trusted": true
      },
      "outputs": [],
      "source": [
        "X = df.drop('Outcome', axis = 1)\n",
        "y = df['Outcome']"
      ]
    },
    {
      "cell_type": "markdown",
      "metadata": {
        "id": "LjwBjF1iN6kK"
      },
      "source": [
        "> <span style='font-size:15px; font-family:Verdana;color: #254E58;'><b>Splitting data for the training</b></span>"
      ]
    },
    {
      "cell_type": "code",
      "execution_count": null,
      "metadata": {
        "execution": {
          "iopub.execute_input": "2023-08-27T17:37:28.701599Z",
          "iopub.status.busy": "2023-08-27T17:37:28.7012Z",
          "iopub.status.idle": "2023-08-27T17:37:28.717421Z",
          "shell.execute_reply": "2023-08-27T17:37:28.71609Z",
          "shell.execute_reply.started": "2023-08-27T17:37:28.70156Z"
        },
        "id": "RVQIto0HN6kK",
        "scrolled": true,
        "trusted": true
      },
      "outputs": [],
      "source": [
        "from sklearn.model_selection import train_test_split\n",
        "\n",
        "X_train, X_test, y_train, y_test = train_test_split(X,y, test_size = 0.20)"
      ]
    },
    {
      "cell_type": "markdown",
      "metadata": {
        "id": "FW3bQ-pRN6kK"
      },
      "source": [
        "<a id=\"5\"></a>\n",
        "# <div style=\"padding:20px;color:white;margin:0;font-size:30px;font-family:Georgia;text-align:left;display:fill;border-radius:5px;background-color:#254E58;overflow:hidden\">5 | Machine Learning models</div>"
      ]
    },
    {
      "cell_type": "markdown",
      "metadata": {
        "id": "VxM05XE7N6kK"
      },
      "source": [
        "<a id=\"5.1\"></a>\n",
        "<h2 style=\"font-family: Verdana; font-size: 25px; font-style: normal; font-weight: normal; text-decoration: none; text-transform: none; letter-spacing: 2px; color: #254E58; background-color: #ffffff;\"><b>5.1 | Logistic</b> Regression"
      ]
    },
    {
      "cell_type": "code",
      "execution_count": null,
      "metadata": {
        "execution": {
          "iopub.execute_input": "2023-08-27T17:37:28.719436Z",
          "iopub.status.busy": "2023-08-27T17:37:28.718916Z",
          "iopub.status.idle": "2023-08-27T17:37:28.749328Z",
          "shell.execute_reply": "2023-08-27T17:37:28.748137Z",
          "shell.execute_reply.started": "2023-08-27T17:37:28.719401Z"
        },
        "id": "bgRimn4WN6kK",
        "trusted": true
      },
      "outputs": [],
      "source": [
        "from sklearn.linear_model import LogisticRegression\n",
        "log_reg = LogisticRegression(C=1, penalty='l2', solver='liblinear', max_iter=200)\n",
        "log_reg.fit(X_train, y_train)\n"
      ]
    },
    {
      "cell_type": "code",
      "execution_count": null,
      "metadata": {
        "execution": {
          "iopub.execute_input": "2023-08-27T17:37:28.751816Z",
          "iopub.status.busy": "2023-08-27T17:37:28.751071Z",
          "iopub.status.idle": "2023-08-27T17:37:29.612899Z",
          "shell.execute_reply": "2023-08-27T17:37:29.611583Z",
          "shell.execute_reply.started": "2023-08-27T17:37:28.751773Z"
        },
        "id": "ds0gezlrN6kK",
        "trusted": true
      },
      "outputs": [],
      "source": [
        "from sklearn.metrics import confusion_matrix, accuracy_score\n",
        "import matplotlib.pyplot as plt\n",
        "import seaborn as sns\n",
        "\n",
        "def predict_and_plot(model, inputs, targets, name=''):\n",
        "    preds = model.predict(inputs)\n",
        "    accuracy = accuracy_score(targets, preds)\n",
        "    print(\"Accuracy: {:.2f}%\".format(accuracy * 100))\n",
        "\n",
        "    cf = confusion_matrix(targets, preds, normalize='true')\n",
        "    plt.figure()\n",
        "    sns.heatmap(cf, annot=True)\n",
        "    plt.xlabel('Prediction')\n",
        "    plt.ylabel('Target')\n",
        "    plt.title('{} Confusion Matrix'.format(name))\n",
        "\n",
        "    return preds\n",
        "\n",
        "# Predict and plot on the training data\n",
        "train_preds = predict_and_plot(log_reg, X_train, y_train, 'Train')\n",
        "\n",
        "# Predict and plot on the validation data\n",
        "val_preds = predict_and_plot(log_reg, X_test, y_test, 'Validation')\n"
      ]
    },
    {
      "cell_type": "markdown",
      "metadata": {
        "id": "DshUh4_sN6kK"
      },
      "source": [
        "<div style=\"background-color:white;font-size:15px;font-family:Georgia;border-style: solid;border-color: #254E58;border-width:3px;padding:10px;margin: 1px;color:#254E58;overflow:hidden\"> <b>Evaluate: Logistic Regression Model</b><br>\n",
        "Training Accuracy - 77.54% <br>\n",
        "Validation Accuracy - 77.68%</div>"
      ]
    },
    {
      "cell_type": "markdown",
      "metadata": {
        "id": "FBTy-YgPN6kK"
      },
      "source": [
        "<a id=\"5.2\"></a>\n",
        "<h2 style=\"font-family: Verdana; font-size: 25px; font-style: normal; font-weight: normal; text-decoration: none; text-transform: none; letter-spacing: 2px; color: #254E58; background-color: #ffffff;\"><b>5.2 | Random</b> Forest"
      ]
    },
    {
      "cell_type": "code",
      "execution_count": null,
      "metadata": {
        "execution": {
          "iopub.execute_input": "2023-08-27T17:37:29.615714Z",
          "iopub.status.busy": "2023-08-27T17:37:29.615239Z",
          "iopub.status.idle": "2023-08-27T17:37:29.980946Z",
          "shell.execute_reply": "2023-08-27T17:37:29.979958Z",
          "shell.execute_reply.started": "2023-08-27T17:37:29.615669Z"
        },
        "id": "l1nQB5b8N6kL",
        "trusted": true
      },
      "outputs": [],
      "source": [
        "from sklearn.ensemble import RandomForestClassifier\n",
        "model_2 = RandomForestClassifier(n_jobs =-1, random_state = 42)\n",
        "model_2.fit(X_train,y_train)"
      ]
    },
    {
      "cell_type": "code",
      "execution_count": null,
      "metadata": {
        "execution": {
          "iopub.execute_input": "2023-08-27T17:37:29.982726Z",
          "iopub.status.busy": "2023-08-27T17:37:29.982385Z",
          "iopub.status.idle": "2023-08-27T17:37:30.034508Z",
          "shell.execute_reply": "2023-08-27T17:37:30.033235Z",
          "shell.execute_reply.started": "2023-08-27T17:37:29.982697Z"
        },
        "id": "5Tq7LDwnN6kL",
        "trusted": true
      },
      "outputs": [],
      "source": [
        "model_2.score(X_train,y_train)"
      ]
    },
    {
      "cell_type": "code",
      "execution_count": null,
      "metadata": {
        "execution": {
          "iopub.execute_input": "2023-08-27T17:37:30.036643Z",
          "iopub.status.busy": "2023-08-27T17:37:30.036211Z",
          "iopub.status.idle": "2023-08-27T17:37:30.932235Z",
          "shell.execute_reply": "2023-08-27T17:37:30.931004Z",
          "shell.execute_reply.started": "2023-08-27T17:37:30.036603Z"
        },
        "id": "oapDYG44N6kL",
        "trusted": true
      },
      "outputs": [],
      "source": [
        "def predict_and_plot(model, inputs,targets, name = ''):\n",
        "    preds = model.predict(inputs)\n",
        "    accuracy = accuracy_score(targets, preds)\n",
        "    print(\"Accuracy: {:.2f}%\".format(accuracy*100))\n",
        "\n",
        "    cf = confusion_matrix(targets, preds, normalize = 'true')\n",
        "    plt.figure()\n",
        "    sns.heatmap(cf, annot = True)\n",
        "    plt.xlabel('Prediction')\n",
        "    plt.ylabel('Target')\n",
        "    plt.title('{} Confusion Matrix'. format(name))\n",
        "\n",
        "    return preds\n",
        "\n",
        "train_preds = predict_and_plot(model_2, X_train, y_train, 'Train')\n",
        "\n",
        "# Predict and plot on the validation data\n",
        "val_preds = predict_and_plot(model_2, X_test, y_test, 'Validation')\n"
      ]
    },
    {
      "cell_type": "markdown",
      "metadata": {
        "id": "5o2pncqAN6kL"
      },
      "source": [
        "<div style=\"background-color:white;font-size:15px;font-family:Georgia;border-style: solid;border-color: #254E58;border-width:3px;padding:10px;margin: 1px;color:#254E58;overflow:hidden\"> <b>Evaluate: Random Forest Model: Before Tunning</b><br>\n",
        "Training Accuracy - 96.00% <br>\n",
        "Validation Accuracy - 78.08%<br>\n",
        "<b>This model seems to be overfitting as training accuracy is very high and the validation accuracy is not so.</b></div>"
      ]
    },
    {
      "cell_type": "markdown",
      "metadata": {
        "id": "4_4mgw8hN6kL"
      },
      "source": [
        "<a id=\"5.3\"></a>\n",
        "> <span style='font-size:15px; font-family:Verdana;color: #254E58;'><b>Hyperparameter Tuning of Random Forest </b></span>"
      ]
    },
    {
      "cell_type": "code",
      "execution_count": null,
      "metadata": {
        "execution": {
          "iopub.execute_input": "2023-08-27T17:37:30.934231Z",
          "iopub.status.busy": "2023-08-27T17:37:30.933758Z",
          "iopub.status.idle": "2023-08-27T17:38:05.227248Z",
          "shell.execute_reply": "2023-08-27T17:38:05.225887Z",
          "shell.execute_reply.started": "2023-08-27T17:37:30.934199Z"
        },
        "id": "uiq5IcanN6kL",
        "trusted": true
      },
      "outputs": [],
      "source": [
        "from sklearn.ensemble import RandomForestClassifier\n",
        "from sklearn.model_selection import GridSearchCV\n",
        "from sklearn.ensemble import RandomForestClassifier\n",
        "from sklearn.metrics import accuracy_score\n",
        "\n",
        "param_grid = {\n",
        "    'n_estimators': [10, 20, 30],  # Adjust the number of trees in the forest\n",
        "    'max_depth': [10, 20, 30],  # Adjust the maximum depth of each tree\n",
        "    'min_samples_split': [2, 5, 10, 15, 20],  # Adjust the minimum samples required to split a node\n",
        "    'min_samples_leaf': [1, 2, 4, 6, 8]  # Adjust the minimum samples required in a leaf node\n",
        "}\n",
        "\n",
        "model = RandomForestClassifier(random_state=42, n_jobs=-1)\n",
        "grid_search = GridSearchCV(model, param_grid, cv=5, n_jobs=-1, scoring='accuracy')\n",
        "grid_search.fit(X_train, y_train)\n",
        "best_model = grid_search.best_estimator_\n",
        "\n",
        "best_model.fit(X_train, y_train)\n",
        "\n",
        "# Evaluate the model on the training and validation data\n",
        "train_accuracy = best_model.score(X_train, y_train)\n",
        "val_accuracy = best_model.score(X_test, y_test)\n",
        "\n",
        "# Print the results\n",
        "print(\"Training Accuracy:\", train_accuracy)\n",
        "print(\"Validation Accuracy:\", val_accuracy)\n",
        "\n"
      ]
    },
    {
      "cell_type": "markdown",
      "metadata": {
        "id": "C74IMR9JN6kL"
      },
      "source": [
        "<div style=\"background-color:white;font-size:15px;font-family:Georgia;border-style: solid;border-color: #254E58;border-width:3px;padding:10px;margin: 1px;color:#254E58;overflow:hidden\"> <b>Evaluate: Random Forest Model After Hyper Parametic Tunning</b><br>\n",
        "Training Accuracy - 89.2% <br>\n",
        "Validation Accuracy - 87.6%<br>\n",
        "<b>It has reduced overfitting compared to the initial model.And Improve the accuracy. </b></div>"
      ]
    },
    {
      "cell_type": "markdown",
      "metadata": {
        "id": "hsABk48WN6kL"
      },
      "source": [
        "<a id=\"5.4\"></a>\n",
        "<h2 style=\"font-family: Verdana; font-size: 25px; font-style: normal; font-weight: normal; text-decoration: none; text-transform: none; letter-spacing: 2px; color: #254E58; background-color: #ffffff;\"><b>5.3 |Decision</b> Tree"
      ]
    },
    {
      "cell_type": "code",
      "execution_count": null,
      "metadata": {
        "execution": {
          "iopub.execute_input": "2023-08-27T17:38:05.230547Z",
          "iopub.status.busy": "2023-08-27T17:38:05.229647Z",
          "iopub.status.idle": "2023-08-27T17:38:05.254746Z",
          "shell.execute_reply": "2023-08-27T17:38:05.249982Z",
          "shell.execute_reply.started": "2023-08-27T17:38:05.230497Z"
        },
        "id": "S6Gcepz7N6kL",
        "trusted": true
      },
      "outputs": [],
      "source": [
        "from sklearn.tree import DecisionTreeClassifier\n",
        "from sklearn.metrics import accuracy_score\n",
        "\n",
        "decision_tree_model = DecisionTreeClassifier(random_state=42)\n",
        "\n",
        "decision_tree_model.fit(X_train, y_train)\n",
        "\n",
        "train_accuracy = decision_tree_model.score(X_train, y_train)\n",
        "val_accuracy = decision_tree_model.score(X_test, y_test)\n",
        "\n",
        "print(\"Training Accuracy:\", train_accuracy)\n",
        "print(\"Validation Accuracy:\", val_accuracy)\n"
      ]
    },
    {
      "cell_type": "markdown",
      "metadata": {
        "id": "wxTd2XAqN6kL"
      },
      "source": [
        "<div style=\"background-color:white;font-size:15px;font-family:Georgia;border-style: solid;border-color: #254E58;border-width:3px;padding:10px;margin: 1px;color:#254E58;overflow:hidden\"> <b>Evaluate: Decision Tree Model: Before Tunning </b><br>\n",
        "Training Accuracy - 100% <br>\n",
        "Validation Accuracy - 75.0%<br>\n",
        "<b>Tree model is overfitting the training data, as it's achieving perfect accuracy on the training data but lower accuracy on the validation data..</b></div>"
      ]
    },
    {
      "cell_type": "markdown",
      "metadata": {
        "id": "bYdV-HorN6kM"
      },
      "source": [
        "<a id=\"5.5\"></a>\n",
        "> <span style='font-size:15px; font-family:Verdana;color: #254E58;'><b> Hyperparameter Tuning Of Decision Tree </b></span>"
      ]
    },
    {
      "cell_type": "code",
      "execution_count": null,
      "metadata": {
        "execution": {
          "iopub.execute_input": "2023-08-27T17:38:05.262621Z",
          "iopub.status.busy": "2023-08-27T17:38:05.261499Z",
          "iopub.status.idle": "2023-08-27T17:38:08.830029Z",
          "shell.execute_reply": "2023-08-27T17:38:08.829178Z",
          "shell.execute_reply.started": "2023-08-27T17:38:05.262582Z"
        },
        "id": "3Fqv34JDN6kM",
        "trusted": true
      },
      "outputs": [],
      "source": [
        "from sklearn.tree import DecisionTreeClassifier\n",
        "from sklearn.model_selection import GridSearchCV\n",
        "\n",
        "param_grid = {\n",
        "    'max_depth': [None, 5, 10, 15, 20],\n",
        "    'min_samples_split': [2, 5, 10, 15, 20, 25],\n",
        "    'min_samples_leaf': [1, 3, 5, 7],\n",
        "    'criterion': ['gini', 'entropy']  # Add criterion hyperparameter\n",
        "}\n",
        "\n",
        "decision_tree_model = DecisionTreeClassifier(random_state=42)\n",
        "\n",
        "grid_search = GridSearchCV(decision_tree_model, param_grid, cv=5, n_jobs=-1, scoring='accuracy')\n",
        "grid_search.fit(X_train, y_train)\n",
        "\n",
        "best_model = grid_search.best_estimator_\n",
        "\n",
        "best_model.fit(X_train, y_train)\n",
        "\n",
        "train_accuracy = best_model.score(X_train, y_train)\n",
        "val_accuracy = best_model.score(X_test, y_test)\n",
        "\n",
        "print(\"Training Accuracy:\", train_accuracy)\n",
        "print(\"Validation Accuracy:\", val_accuracy)\n",
        "\n"
      ]
    },
    {
      "cell_type": "markdown",
      "metadata": {
        "id": "leRZrHo9N6kM"
      },
      "source": [
        "<div style=\"background-color:white;font-size:15px;font-family:Georgia;border-style: solid;border-color: #254E58;border-width:3px;padding:10px;margin: 1px;color:#254E58;overflow:hidden\"> <b>Evaluate: Decision Tree Model </b><br>\n",
        "Training Accuracy - 82.2% <br>\n",
        "Validation Accuracy - 85.5%<br>\n",
        "<b>It has reduced overfitting compared to the initial model And Improve the result.</b></div>"
      ]
    },
    {
      "cell_type": "markdown",
      "metadata": {
        "id": "aJMT9A6eN6kM"
      },
      "source": [
        "<a id=\"5.6\"></a>\n",
        "<h2 style=\"font-family: Verdana; font-size: 25px; font-style: normal; font-weight: normal; text-decoration: none; text-transform: none; letter-spacing: 2px; color: #254E58; background-color: #ffffff;\"><b>5.4 |KNeighborsClassifier</b> Model"
      ]
    },
    {
      "cell_type": "code",
      "execution_count": null,
      "metadata": {
        "execution": {
          "iopub.execute_input": "2023-08-27T17:38:08.831948Z",
          "iopub.status.busy": "2023-08-27T17:38:08.831402Z",
          "iopub.status.idle": "2023-08-27T17:38:09.121781Z",
          "shell.execute_reply": "2023-08-27T17:38:09.120505Z",
          "shell.execute_reply.started": "2023-08-27T17:38:08.831917Z"
        },
        "id": "VegsGmxzN6kM",
        "trusted": true
      },
      "outputs": [],
      "source": [
        "from sklearn.neighbors import KNeighborsClassifier\n",
        "from sklearn.model_selection import train_test_split\n",
        "from sklearn.metrics import accuracy_score, confusion_matrix\n",
        "\n",
        "X_train, X_val, y_train, y_val = train_test_split(X, y, test_size=0.2, random_state=42)\n",
        "\n",
        "knn_model = KNeighborsClassifier(n_neighbors=5)\n",
        "\n",
        "knn_model.fit(X_train, y_train)\n",
        "\n",
        "y_train_pred = knn_model.predict(X_train)\n",
        "\n",
        "y_val_pred = knn_model.predict(X_val)\n",
        "\n",
        "train_accuracy = accuracy_score(y_train, y_train_pred)\n",
        "val_accuracy = accuracy_score(y_val, y_val_pred)\n",
        "\n",
        "print(\"Training Accuracy:\", train_accuracy)\n",
        "print(\"Validation Accuracy:\", val_accuracy)\n",
        "\n",
        "confusion = confusion_matrix(y_val, y_val_pred)\n",
        "\n",
        "plt.figure(figsize=(6, 4))\n",
        "sns.heatmap(confusion, annot=True, fmt='d', cmap='Blues', cbar=False)\n",
        "plt.xlabel('Predicted')\n",
        "plt.ylabel('Actual')\n",
        "plt.title('Confusion Matrix (Validation)')\n",
        "plt.show()\n"
      ]
    },
    {
      "cell_type": "markdown",
      "metadata": {
        "id": "PCbRcLmwN6kM"
      },
      "source": [
        "<div style=\"background-color:white;font-size:15px;font-family:Georgia;border-style: solid;border-color: #254E58;border-width:3px;padding:10px;margin: 1px;color:#254E58;overflow:hidden\"> <b>Evaluate: KNeighborsClassifier: Before Tunning</b><br>\n",
        "Training Accuracy - 80.0% <br>\n",
        "Validation Accuracy - 66.00%</div>"
      ]
    },
    {
      "cell_type": "markdown",
      "metadata": {
        "id": "THZybEFGN6kM"
      },
      "source": [
        "<a id=\"5.7\"></a>\n",
        "> <span style='font-size:15px; font-family:Verdana;color: #254E58;'><b> Hyperparameter Tuning of KNN </b></span>"
      ]
    },
    {
      "cell_type": "code",
      "execution_count": null,
      "metadata": {
        "execution": {
          "iopub.execute_input": "2023-08-27T17:38:09.123378Z",
          "iopub.status.busy": "2023-08-27T17:38:09.123043Z",
          "iopub.status.idle": "2023-08-27T17:38:09.470435Z",
          "shell.execute_reply": "2023-08-27T17:38:09.469071Z",
          "shell.execute_reply.started": "2023-08-27T17:38:09.123349Z"
        },
        "id": "CQd8zhPQN6kM",
        "scrolled": true,
        "trusted": true
      },
      "outputs": [],
      "source": [
        "from sklearn.neighbors import KNeighborsClassifier\n",
        "from sklearn.model_selection import GridSearchCV\n",
        "from sklearn.metrics import accuracy_score\n",
        "\n",
        "param_grid = {\n",
        "    'n_neighbors': [1, 3, 5, 7, 9]  # Adjust the number of neighbors to explore\n",
        "}\n",
        "\n",
        "knn_model = KNeighborsClassifier()\n",
        "\n",
        "grid_search = GridSearchCV(knn_model, param_grid, cv=5, scoring='accuracy')\n",
        "grid_search.fit(X_train, y_train)\n",
        "\n",
        "best_model = grid_search.best_estimator_\n",
        "\n",
        "y_train_pred = best_model.predict(X_train)\n",
        "\n",
        "y_val_pred = best_model.predict(X_val)\n",
        "\n",
        "train_accuracy = accuracy_score(y_train, y_train_pred)\n",
        "val_accuracy = accuracy_score(y_val, y_val_pred)\n",
        "\n",
        "print(\"Training Accuracy with Best Hyperparameters:\", train_accuracy)\n",
        "print(\"Validation Accuracy with Best Hyperparameters:\", val_accuracy)\n"
      ]
    },
    {
      "cell_type": "markdown",
      "metadata": {
        "id": "F0TdLBApN6kM"
      },
      "source": [
        "<div style=\"background-color:white;font-size:15px;font-family:Georgia;border-style: solid;border-color: #254E58;border-width:3px;padding:10px;margin: 1px;color:#254E58;overflow:hidden\"> <b>Evaluate: KNN After the Tunning</b><br>\n",
        "Training Accuracy - 79.4% <br>\n",
        "Validation Accuracy - 72.7%</div>"
      ]
    },
    {
      "cell_type": "markdown",
      "metadata": {
        "id": "E61GPuZpN6kN"
      },
      "source": [
        "<a id=\"5.8\"></a>\n",
        "<h2 style=\"font-family: Verdana; font-size: 25px; font-style: normal; font-weight: normal; text-decoration: none; text-transform: none; letter-spacing: 2px; color: #254E58; background-color: #ffffff;\"><b>5.5 |Support Vector </b> Classifier"
      ]
    },
    {
      "cell_type": "code",
      "execution_count": null,
      "metadata": {
        "execution": {
          "iopub.execute_input": "2023-08-27T17:38:09.473007Z",
          "iopub.status.busy": "2023-08-27T17:38:09.472039Z",
          "iopub.status.idle": "2023-08-27T17:38:12.19701Z",
          "shell.execute_reply": "2023-08-27T17:38:12.195747Z",
          "shell.execute_reply.started": "2023-08-27T17:38:09.472973Z"
        },
        "id": "EdJj7SFGN6kN",
        "trusted": true
      },
      "outputs": [],
      "source": [
        "X_train, X_val, y_train, y_val = train_test_split(X, y, test_size=0.2, random_state=42)\n",
        "\n",
        "svm_model = SVC(kernel='linear')\n",
        "\n",
        "svm_model.fit(X_train, y_train)\n",
        "\n",
        "y_train_pred = svm_model.predict(X_train)\n",
        "\n",
        "y_val_pred = svm_model.predict(X_val)\n",
        "\n",
        "train_accuracy = accuracy_score(y_train, y_train_pred)\n",
        "\n",
        "val_accuracy = accuracy_score(y_val, y_val_pred)\n",
        "\n",
        "print(\"Training Accuracy:\", train_accuracy)\n",
        "print(\"Validation Accuracy:\", val_accuracy)\n",
        "\n",
        "train_confusion = confusion_matrix(y_train, y_train_pred)\n",
        "val_confusion = confusion_matrix(y_val, y_val_pred)\n",
        "\n",
        "plt.figure(figsize=(12, 5))\n",
        "plt.subplot(1, 2, 1)\n",
        "sns.heatmap(train_confusion, annot=True, fmt='d', cmap='Blues', cbar=False)\n",
        "plt.xlabel('Predicted')\n",
        "plt.ylabel('Actual')\n",
        "plt.title('Confusion Matrix (Training)')\n",
        "\n",
        "plt.subplot(1, 2, 2)\n",
        "sns.heatmap(val_confusion, annot=True, fmt='d', cmap='Blues', cbar=False)\n",
        "plt.xlabel('Predicted')\n",
        "plt.ylabel('Actual')\n",
        "plt.title('Confusion Matrix (Validation)')\n",
        "plt.show()\n"
      ]
    },
    {
      "cell_type": "markdown",
      "metadata": {
        "id": "OzzgdMRJN6kN"
      },
      "source": [
        "<div style=\"background-color:white;font-size:15px;font-family:Georgia;border-style: solid;border-color: #254E58;border-width:3px;padding:10px;margin: 1px;color:#254E58;overflow:hidden\"> <b>Evaluate: SVC </b><br>\n",
        "Training Accuracy - 77.8% <br>\n",
        "Validation Accuracy - 77.2%</div>"
      ]
    },
    {
      "cell_type": "markdown",
      "metadata": {
        "id": "929OPS4uN6kN"
      },
      "source": [
        "<a id=\"5.9\"></a>\n",
        "<h2 style=\"font-family: Verdana; font-size: 25px; font-style: normal; font-weight: normal; text-decoration: none; text-transform: none; letter-spacing: 2px; color: #254E58; background-color: #ffffff;\"><b>5.6 |AdaBoost</b> Classifier"
      ]
    },
    {
      "cell_type": "code",
      "execution_count": null,
      "metadata": {
        "execution": {
          "iopub.execute_input": "2023-08-27T17:38:12.199984Z",
          "iopub.status.busy": "2023-08-27T17:38:12.199051Z",
          "iopub.status.idle": "2023-08-27T17:38:12.604706Z",
          "shell.execute_reply": "2023-08-27T17:38:12.603449Z",
          "shell.execute_reply.started": "2023-08-27T17:38:12.199941Z"
        },
        "id": "EacBggz6N6kN",
        "trusted": true
      },
      "outputs": [],
      "source": [
        "from sklearn.ensemble import AdaBoostClassifier\n",
        "from sklearn.metrics import accuracy_score, confusion_matrix\n",
        "\n",
        "adaboost_model = AdaBoostClassifier(n_estimators=50, random_state=42)\n",
        "\n",
        "adaboost_model.fit(X_train, y_train)\n",
        "\n",
        "y_train_pred_adaboost = adaboost_model.predict(X_train)\n",
        "\n",
        "y_val_pred_adaboost = adaboost_model.predict(X_val)\n",
        "\n",
        "train_accuracy_adaboost = accuracy_score(y_train, y_train_pred_adaboost)\n",
        "\n",
        "val_accuracy_adaboost = accuracy_score(y_val, y_val_pred_adaboost)\n",
        "\n",
        "print(\"AdaBoost Training Accuracy:\", train_accuracy_adaboost)\n",
        "print(\"AdaBoost Validation Accuracy:\", val_accuracy_adaboost)\n",
        "\n",
        "confusion_adaboost = confusion_matrix(y_val, y_val_pred_adaboost)\n",
        "\n",
        "# Plot the confusion matrix\n",
        "plt.figure()\n",
        "sns.heatmap(confusion_adaboost, annot=True, fmt='d', cmap='Blues', cbar=False)\n",
        "plt.xlabel('Predicted')\n",
        "plt.ylabel('Actual')\n",
        "plt.title('AdaBoost Confusion Matrix (Validation)')\n",
        "plt.show()\n"
      ]
    },
    {
      "cell_type": "markdown",
      "metadata": {
        "id": "J2vAMBfTN6kN"
      },
      "source": [
        "<div style=\"background-color:white;font-size:15px;font-family:Georgia;border-style: solid;border-color: #254E58;border-width:3px;padding:10px;margin: 1px;color:#254E58;overflow:hidden\"> <b>Evaluate: AdaBoost Classifier¶</b><br>\n",
        "Training Accuracy - 82.4% <br>\n",
        "Validation Accuracy - 74.0%</div>"
      ]
    },
    {
      "cell_type": "markdown",
      "metadata": {
        "id": "yJwbugrPN6kN"
      },
      "source": [
        "<a id=\"5.10\"></a>\n",
        "<h2 style=\"font-family: Verdana; font-size: 25px; font-style: normal; font-weight: normal; text-decoration: none; text-transform: none; letter-spacing: 2px; color: #254E58; background-color: #ffffff;\"><b>5.7 | Gradient Boosting </b> Classifier\n"
      ]
    },
    {
      "cell_type": "code",
      "execution_count": null,
      "metadata": {
        "execution": {
          "iopub.execute_input": "2023-08-27T17:38:12.607258Z",
          "iopub.status.busy": "2023-08-27T17:38:12.606834Z",
          "iopub.status.idle": "2023-08-27T17:38:12.828594Z",
          "shell.execute_reply": "2023-08-27T17:38:12.827268Z",
          "shell.execute_reply.started": "2023-08-27T17:38:12.607224Z"
        },
        "id": "B5mBNUeAN6kN",
        "trusted": true
      },
      "outputs": [],
      "source": [
        "from sklearn.ensemble import GradientBoostingClassifier\n",
        "\n",
        "# Create a Gradient Boosting classifier\n",
        "gbm_model = GradientBoostingClassifier(n_estimators=100, max_depth=3, random_state=42)\n",
        "\n",
        "# Fit the GBM model to the training data\n",
        "gbm_model.fit(X_train, y_train)\n",
        "\n",
        "# Make predictions on the training data\n",
        "y_train_pred_gbm = gbm_model.predict(X_train)\n",
        "\n",
        "# Make predictions on the validation data\n",
        "y_val_pred_gbm = gbm_model.predict(X_val)\n",
        "\n",
        "# Calculate the training accuracy\n",
        "train_accuracy_gbm = accuracy_score(y_train, y_train_pred_gbm)\n",
        "\n",
        "# Calculate the validation accuracy\n",
        "val_accuracy_gbm = accuracy_score(y_val, y_val_pred_gbm)\n",
        "\n",
        "# Print the training and validation accuracies\n",
        "print(\"GBM Training Accuracy:\", train_accuracy_gbm)\n",
        "print(\"GBM Validation Accuracy:\", val_accuracy_gbm)\n"
      ]
    },
    {
      "cell_type": "markdown",
      "metadata": {
        "id": "_8WZEYyWN6kN"
      },
      "source": [
        "<div style=\"background-color:white;font-size:15px;font-family:Georgia;border-style: solid;border-color: #254E58;border-width:3px;padding:10px;margin: 1px;color:#254E58;overflow:hidden\"> <b>Evaluate: Gradient Boosting Classifier</b><br>\n",
        "Training Accuracy - 94.2% <br>\n",
        "Validation Accuracy - 75.3%</div>"
      ]
    },
    {
      "cell_type": "markdown",
      "metadata": {
        "id": "9_q1okgHN6kO"
      },
      "source": [
        "<a id=\"5.11\"></a>\n",
        "<h2 style=\"font-family: Verdana; font-size: 25px; font-style: normal; font-weight: normal; text-decoration: none; text-transform: none; letter-spacing: 2px; color: #254E58; background-color: #ffffff;\"><b>5.8 | xgboost </b> Classifier"
      ]
    },
    {
      "cell_type": "code",
      "execution_count": null,
      "metadata": {
        "execution": {
          "iopub.execute_input": "2023-08-27T17:38:12.830747Z",
          "iopub.status.busy": "2023-08-27T17:38:12.830406Z",
          "iopub.status.idle": "2023-08-27T17:38:12.933147Z",
          "shell.execute_reply": "2023-08-27T17:38:12.93218Z",
          "shell.execute_reply.started": "2023-08-27T17:38:12.830719Z"
        },
        "id": "KgXIj6IIN6kO",
        "trusted": true
      },
      "outputs": [],
      "source": [
        "from xgboost import XGBClassifier\n",
        "\n",
        "# Create an XGBoost classifier\n",
        "xgboost_model = XGBClassifier(n_estimators=100, max_depth=3, random_state=42)\n",
        "\n",
        "# Fit the XGBoost model to the training data\n",
        "xgboost_model.fit(X_train, y_train)\n",
        "\n",
        "# Make predictions on the training data\n",
        "y_train_pred_xgboost = xgboost_model.predict(X_train)\n",
        "\n",
        "# Make predictions on the validation data\n",
        "y_val_pred_xgboost = xgboost_model.predict(X_val)\n",
        "\n",
        "# Calculate the training accuracy\n",
        "train_accuracy_xgboost = accuracy_score(y_train, y_train_pred_xgboost)\n",
        "\n",
        "# Calculate the validation accuracy\n",
        "val_accuracy_xgboost = accuracy_score(y_val, y_val_pred_xgboost)\n",
        "\n",
        "# Print the training and validation accuracies\n",
        "print(\"XGBoost Training Accuracy:\", train_accuracy_xgboost)\n",
        "print(\"XGBoost Validation Accuracy:\", val_accuracy_xgboost)\n"
      ]
    },
    {
      "cell_type": "markdown",
      "metadata": {
        "id": "68pPWsD4N6kO"
      },
      "source": [
        "<div style=\"background-color:white;font-size:15px;font-family:Georgia;border-style: solid;border-color: #254E58;border-width:3px;padding:10px;margin: 1px;color:#254E58;overflow:hidden\"> <b>Evaluate:\n",
        "xgboost Classifier</b><br>\n",
        "Training Accuracy - 98.4% <br>\n",
        "Validation Accuracy - 72.7%</div>"
      ]
    },
    {
      "cell_type": "markdown",
      "metadata": {
        "id": "cMJEHd9CN6kO"
      },
      "source": [
        "<a id=\"6\"></a>\n",
        "# <div style=\"padding:20px;color:white;margin:0;font-size:30px;font-family:Georgia;text-align:left;display:fill;border-radius:5px;background-color:#254E58;overflow:hidden\">6 | Conclusion</div>"
      ]
    },
    {
      "cell_type": "markdown",
      "metadata": {
        "id": "eGOWDaUFN6kO"
      },
      "source": [
        "<a id=\"6.1\"></a>\n",
        "> <span style='font-size:20px; font-family:Verdana;color: #254E58;'><b>Conclusion </b></span>"
      ]
    },
    {
      "cell_type": "markdown",
      "metadata": {
        "id": "vMMX_MuBN6kO"
      },
      "source": [
        "\n",
        "<div style=\"background-color:white;font-size:15px;font-family:Georgia;border-style: solid;border-color: #254E58;border-width:3px;padding:10px;margin: 1px;color:#254E58;overflow:hidden\"> <b>Evaluate: Random Forest Model After Hyper Parametic Tunning</b><br>\n",
        "Training Accuracy - 89.2% <br>\n",
        "Validation Accuracy - 87.6%<br>\n"
      ]
    },
    {
      "cell_type": "markdown",
      "metadata": {
        "id": "oZH_2EWwN6kO"
      },
      "source": [
        "<a id=\"6.2\"></a>\n",
        "> <span style='font-size:20px; font-family:Verdana;color: #254E58;'><b>Future Possible Work</b></span>"
      ]
    },
    {
      "cell_type": "markdown",
      "metadata": {
        "id": "VJX_Xv_PN6kO"
      },
      "source": [
        "<div style=\"background-color:white;font-size:15px;font-family:Georgia;border-style: solid;border-color: #254E58;border-width:3px;padding:10px;margin: 1px;color:#254E58;overflow:hidden\">\n",
        "- Betterment of results using different hyperparameters for tuning<br>\n",
        "- Implementing more models to gain better results<br>\n",
        "- Using the same method to predict response<br>\n",
        "</div>"
      ]
    },
    {
      "cell_type": "markdown",
      "metadata": {
        "id": "DYdywJ4SN6kO"
      },
      "source": [
        "<a id=\"7\"></a>\n",
        "# <div style=\"padding:20px;color:white;margin:0;font-size:30px;font-family:Georgia;text-align:left;display:fill;border-radius:5px;background-color:#254E58;overflow:hidden\">7 | Author Message</div>"
      ]
    },
    {
      "cell_type": "markdown",
      "metadata": {
        "id": "dujmCFCsN6kO"
      },
      "source": [
        "<div style=\"background-color:white;font-size:15px;font-family:Georgia;border-style: solid;border-color: #254E58;border-width:3px;padding:10px;margin: 1px;color:#254E58;overflow:hidden\">\n",
        "\n",
        "<h4><b>Author :</b> Zabihullah </h4>\n",
        "\n",
        "<h4> <b>Some information:</b> </h4>\n",
        "\n",
        "<b>👉Read more project :</b> https://www.kaggle.com/zabihullah18 <br>\n",
        "<b>👉Shoot me mails :</b>  zabihullah18381@gmail.com <br>\n",
        "<b>👉Connect on LinkedIn :</b> https://www.linkedin.com/in/zabih-ullah/ <br>\n",
        "<b>👉Explore Github :</b> https://github.com/zabihullah18381 <br>\n",
        "    \n",
        "    \n",
        "<center> <strong> If you liked this Notebook, please do upvote. </strong>\n",
        "    \n",
        "<center> <strong> If you have any questions, feel free to comment! </strong>\n",
        "    \n",
        "<center> <strong> ✨Best Wishes✨ </strong>\n",
        "    \n",
        "<a href=\"https://www.buymeacoffee.com/zabih\"><img src=\"https://www.codehim.com/wp-content/uploads/2022/09/bmc-button-640x180.png.webp\" alt=\"Buy Me A Coffee\" style=\"height: 80px; width: 300px; box-shadow: 0px 3px 2px 0px rgba(190, 190, 190, 0.5) !important;-webkit-box-shadow: 0px 3px 2px 0px rgba(190, 190, 190, 0.5) !important;\" ></a>"
      ]
    }
  ],
  "metadata": {
    "colab": {
      "name": "✅ Diabetes Prediction 💊",
      "provenance": []
    },
    "kaggle": {
      "accelerator": "gpu",
      "dataSources": [
        {
          "datasetId": 228,
          "sourceId": 482,
          "sourceType": "datasetVersion"
        },
        {
          "datasetId": 1703281,
          "sourceId": 2789260,
          "sourceType": "datasetVersion"
        },
        {
          "datasetId": 2619659,
          "sourceId": 4476380,
          "sourceType": "datasetVersion"
        },
        {
          "datasetId": 3102947,
          "sourceId": 5344155,
          "sourceType": "datasetVersion"
        },
        {
          "datasetId": 3831944,
          "sourceId": 6637689,
          "sourceType": "datasetVersion"
        }
      ],
      "dockerImageVersionId": 30527,
      "isGpuEnabled": true,
      "isInternetEnabled": true,
      "language": "python",
      "sourceType": "notebook"
    },
    "kernelspec": {
      "display_name": "Python 3",
      "language": "python",
      "name": "python3"
    },
    "language_info": {
      "codemirror_mode": {
        "name": "ipython",
        "version": 3
      },
      "file_extension": ".py",
      "mimetype": "text/x-python",
      "name": "python",
      "nbconvert_exporter": "python",
      "pygments_lexer": "ipython3",
      "version": "3.10.11"
    }
  },
  "nbformat": 4,
  "nbformat_minor": 0
}
